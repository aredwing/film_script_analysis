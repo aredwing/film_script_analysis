{
 "cells": [
  {
   "cell_type": "code",
   "execution_count": 147,
   "metadata": {
    "collapsed": true
   },
   "outputs": [],
   "source": [
    "import nltk"
   ]
  },
  {
   "cell_type": "code",
   "execution_count": 150,
   "metadata": {
    "collapsed": false
   },
   "outputs": [],
   "source": [
    "tokens = nltk.word_tokenize(clean_script)"
   ]
  },
  {
   "cell_type": "code",
   "execution_count": 152,
   "metadata": {
    "collapsed": false
   },
   "outputs": [
    {
     "data": {
      "text/plain": [
       "42241"
      ]
     },
     "execution_count": 152,
     "metadata": {},
     "output_type": "execute_result"
    }
   ],
   "source": [
    "len(tokens)"
   ]
  },
  {
   "cell_type": "code",
   "execution_count": 156,
   "metadata": {
    "collapsed": false
   },
   "outputs": [],
   "source": [
    "tchange = nltk.Text(tokens)"
   ]
  },
  {
   "cell_type": "code",
   "execution_count": 157,
   "metadata": {
    "collapsed": false
   },
   "outputs": [
    {
     "data": {
      "text/plain": [
       "<Text: AVATAR Written by James Cameron THE SOUND OF...>"
      ]
     },
     "execution_count": 157,
     "metadata": {},
     "output_type": "execute_result"
    }
   ],
   "source": [
    "tchange"
   ]
  },
  {
   "cell_type": "code",
   "execution_count": 161,
   "metadata": {
    "collapsed": false
   },
   "outputs": [
    {
     "name": "stdout",
     "output_type": "stream",
     "text": [
      "Displaying 18 of 18 matches:\n",
      "AVATAR lies on a gurney , breathing slowly in PANDORAN AIR . NORM 'S AVATAR is\n",
      "he link is stable . Blinking , Jake slowly sits up on the gurney . He looks do\n",
      "ueue -- the ends of the hair writhe slowly with their own life , like tendrils\n",
      "owns , puzzled , and LOWERS her bow slowly . The woodsprite WHIRLS away into t\n",
      "ke problems . Only . Jake gets up , slowly , facing her . JAKE Okay , fine , y\n",
      "ing MASS OF LIGHT -- moves one hand slowly , not wanting to break the spell . \n",
      "e silently as the Matriarch circles slowly around Jake , examining his tail an\n",
      "ferns . Neytiri signals him to move slowly . They approach a creature on one o\n",
      "ck well . Jake relaxes his grip and slowly , warily , slides his leg over the \n",
      "s teaching it to take the food more slowly . He strokes its long head . TSU'TE\n",
      "ople know this story . 77 . PUSH IN SLOWLY on the skull totem , then -- CUT TO\n",
      " the womb of the earth , Jake walks slowly into the center of a tight circle o\n",
      "ed elders and hunters . An ELDER is slowly rapping a large WATER DRUM . TIME C\n",
      "ently closes her eyes . Jake stands slowly , barely holding it together . NEYT\n",
      "ps , ripping into them . ON JAKE -- slowly getting it . EYWA is in the fight .\n",
      "er . She senses something and turns slowly to see -- A THANATOR emerging from \n",
      " from a tree limb . The `suit rises slowly , knife glinting in the morning sun\n",
      "e , stroking his cheek . TIGHTENING slowly to -- ECU JAKE 'S EYES . Hold a bea\n"
     ]
    }
   ],
   "source": [
    "tchange.concordance('slowly')"
   ]
  },
  {
   "cell_type": "code",
   "execution_count": 162,
   "metadata": {
    "collapsed": false
   },
   "outputs": [
    {
     "name": "stdout",
     "output_type": "stream",
     "text": [
      "kneels hears laughs leads taught ignores skin dragging dives arm\n",
      "wainfleet tucks studying dismounts grimaces chest wet wobbles norm\n",
      "shrugs\n"
     ]
    }
   ],
   "source": [
    "tchange.similar('signals')"
   ]
  },
  {
   "cell_type": "code",
   "execution_count": null,
   "metadata": {
    "collapsed": false
   },
   "outputs": [],
   "source": []
  },
  {
   "cell_type": "code",
   "execution_count": null,
   "metadata": {
    "collapsed": true
   },
   "outputs": [],
   "source": [
    "print len(tchange)\n",
    "print len(set(tchange))\n",
    "print len(set(tchange))/len(tchange)\n",
    "100 * tachange.count('a')/len(tchange)\n",
    "\n",
    "\n",
    "def lexical_diversity(text): \n",
    "    return len(set(text)) / len(text) \n",
    "\n",
    "def percentage(count, total):\n",
    "    return 100 * count / total\n",
    "\n",
    "tchange.index('word')\n",
    "\n",
    "' '.join(['Monty', 'Python'])\n",
    "'Monty Python'\n",
    "'Monty Python'.split()\n",
    "['Monty', 'Python']\n",
    "\n",
    "freq = FreqDist(tchange)\n",
    "freq.most_common(50)\n",
    "\n",
    "V = set(text1)\n",
    "long_words = [w for w in V if len(w) > 15]\n",
    "sorted(long_words)\n",
    "\n",
    "list(bigrams(['more', 'is', 'said', 'than', 'done']))\n",
    "\n",
    "tchange.collocations()\n",
    "\n",
    "[len(w) for w in text1]\n",
    "fdist = FreqDist(len(w) for w in text1)\n",
    "\n",
    "fdist.most_common()\n",
    "\n",
    "for fileid in gutenberg.fileids():\n",
    "...     num_chars = len(gutenberg.raw(fileid)) [1]\n",
    "...     num_words = len(gutenberg.words(fileid))\n",
    "...     num_sents = len(gutenberg.sents(fileid))\n",
    "...     num_vocab = len(set(w.lower() for w in gutenberg.words(fileid)))\n",
    "...     print(round(num_chars/num_words), round(num_words/num_sents), round(num_words/num_vocab), fileid)"
   ]
  }
 ],
 "metadata": {
  "kernelspec": {
   "display_name": "Python 2",
   "language": "python",
   "name": "python2"
  },
  "language_info": {
   "codemirror_mode": {
    "name": "ipython",
    "version": 2
   },
   "file_extension": ".py",
   "mimetype": "text/x-python",
   "name": "python",
   "nbconvert_exporter": "python",
   "pygments_lexer": "ipython2",
   "version": "2.7.11"
  }
 },
 "nbformat": 4,
 "nbformat_minor": 0
}
