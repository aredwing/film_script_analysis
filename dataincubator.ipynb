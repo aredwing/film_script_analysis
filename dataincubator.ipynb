{
 "cells": [
  {
   "cell_type": "code",
   "execution_count": null,
   "metadata": {
    "collapsed": false
   },
   "outputs": [],
   "source": [
    "import itertools as it\n",
    "import numpy as np\n",
    "\n",
    "def diceFun(n=8,m=24,d=6):\n",
    "    seq = range(1,d+1)\n",
    "    result = []\n",
    "    for p in it.product(seq,repeat=n):\n",
    "        add = sum(p)\n",
    "        if add == m:\n",
    "            result.append(reduce(lambda x,y: x*y,p))\n",
    "    return np.mean(result),np.std(result)\n",
    "\n",
    "def diceDif(rep=10000000,n=50,m=150,d=6,s=0):\n",
    "    np.random.seed(s)\n",
    "    result = []\n",
    "    for i in range(rep):\n",
    "        z = np.random.choice(range(1,d+1),size=n)\n",
    "        if z.sum() == m:\n",
    "            r = 1.\n",
    "            for j in z:\n",
    "                r *= j\n",
    "            result.append(r)\n",
    "    return np.mean(result),np.std(result)\n",
    "\n",
    "print diceFun()\n",
    "print diceDif()\n",
    "#(1859.9329541659499, 855.06988534739196)\n",
    "#(1.8611813822811364e+20, 2.8652376543099784e+20)"
   ]
  },
  {
   "cell_type": "code",
   "execution_count": null,
   "metadata": {
    "collapsed": false
   },
   "outputs": [],
   "source": [
    "import pandas as pd\n",
    "df = pd.read_csv('all.csv')"
   ]
  },
  {
   "cell_type": "code",
   "execution_count": null,
   "metadata": {
    "collapsed": false,
    "scrolled": true
   },
   "outputs": [],
   "source": [
    "np.median(df['tripduration'])\n",
    "#629.0"
   ]
  },
  {
   "cell_type": "code",
   "execution_count": null,
   "metadata": {
    "collapsed": false,
    "scrolled": true
   },
   "outputs": [],
   "source": [
    "visit = []\n",
    "for i in df['bikeid'].unique():\n",
    "    visit.append(len((df['start station id'][df['bikeid']==i]+df['end station id'][df['bikeid']==i]).unique()))\n",
    "np.std(visit)\n",
    "#138.03160682726983"
   ]
  },
  {
   "cell_type": "code",
   "execution_count": null,
   "metadata": {
    "collapsed": false
   },
   "outputs": [],
   "source": [
    "dur = []\n",
    "for i in df['month'].unique():\n",
    "    dur.append(np.mean(df['tripduration'][df['month']==i]))\n",
    "max(dur)-min(dur)\n",
    "#430.57029597000519"
   ]
  },
  {
   "cell_type": "code",
   "execution_count": null,
   "metadata": {
    "collapsed": false
   },
   "outputs": [],
   "source": [
    "l = float(df.shape[0])\n",
    "(sum(df['tripduration'][df['usertype']=='Subscriber']>2700)+sum(df['tripduration'][df['usertype']=='Customer']>1800))/l\n",
    "#0.038106780168060496"
   ]
  },
  {
   "cell_type": "code",
   "execution_count": null,
   "metadata": {
    "collapsed": false
   },
   "outputs": [],
   "source": [
    "index = df['start station id']==df['end station id']\n",
    "sum(index)/l\n",
    "#0.022358391337304433"
   ]
  },
  {
   "cell_type": "code",
   "execution_count": null,
   "metadata": {
    "collapsed": false
   },
   "outputs": [],
   "source": [
    "from geopy.distance import great_circle as gc\n",
    "\n",
    "temp = df[['start station latitude',\n",
    "           'start station longitude',\n",
    "           'end station latitude',\n",
    "           'end station longitude']][~index].values\n",
    "dist = []\n",
    "for i in temp:\n",
    "    dist.append(gc((i[0],i[1]),(i[2],i[3])).meters)\n",
    "\n",
    "np.mean(dist)/1000.\n",
    "#1.7601482994543947"
   ]
  },
  {
   "cell_type": "code",
   "execution_count": null,
   "metadata": {
    "collapsed": false
   },
   "outputs": [],
   "source": [
    "strH = []\n",
    "\n",
    "for i in df[['starttime']].values:\n",
    "    strH.append(int(i[0].split()[1].split(':')[0]))\n",
    "\n",
    "df['hours'] = strH\n",
    "\n",
    "group  = df[['hours','start station id']].groupby('hours').count()\n",
    "group  = group/group.sum()\n",
    "groups = df[['hours','start station id','month']].groupby(['start station id','hours']).count()\n",
    "sep = []\n",
    "for i in groups.index:\n",
    "    sep.append([i,list(groups.ix[i].values/float(sum(groups.ix[i[0]].values))/group.ix[i[1]])[0]])\n",
    "pd.DataFrame(sep).max()\n",
    "#11.4216840462"
   ]
  },
  {
   "cell_type": "code",
   "execution_count": null,
   "metadata": {
    "collapsed": false
   },
   "outputs": [],
   "source": [
    "count = [0.,0.]\n",
    "short = df[['bikeid','end station id','start station id']]\n",
    "\n",
    "for i in short['bikeid'].unique():\n",
    "    temp = short[short['bikeid']==i]\n",
    "    for i in range(temp.shape[0]-1):\n",
    "        if temp['end station id'].iloc[i]!=temp['start station id'].iloc[i+1]:\n",
    "            count[1] += 1.\n",
    "        count[0] += 1.\n",
    "\n",
    "count[1]/count[0]\n",
    "#0.13267254759860828"
   ]
  }
 ],
 "metadata": {
  "kernelspec": {
   "display_name": "Python 2",
   "language": "python",
   "name": "python2"
  },
  "language_info": {
   "codemirror_mode": {
    "name": "ipython",
    "version": 2
   },
   "file_extension": ".py",
   "mimetype": "text/x-python",
   "name": "python",
   "nbconvert_exporter": "python",
   "pygments_lexer": "ipython2",
   "version": "2.7.11"
  }
 },
 "nbformat": 4,
 "nbformat_minor": 0
}
