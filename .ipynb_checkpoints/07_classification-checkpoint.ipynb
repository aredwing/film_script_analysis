{
 "cells": [
  {
   "cell_type": "markdown",
   "metadata": {},
   "source": [
    "# Film Script Analyzer\n",
    "\n",
    "## Classification"
   ]
  },
  {
   "cell_type": "markdown",
   "metadata": {},
   "source": [
    "The task for the machine learning models is generalization, that is, to be able to correctly tell things about stuff it has never seen before. To do so, it needs to see some stuff before to learn the patterns that lay underneath the surface of data.\n",
    "\n",
    "The first thing the model will do is learn to correctly classify a script into a genre."
   ]
  },
  {
   "cell_type": "markdown",
   "metadata": {},
   "source": [
    "### TEST, CHANGE SCALE DATA TO MINMAX"
   ]
  },
  {
   "cell_type": "code",
   "execution_count": 1,
   "metadata": {
    "collapsed": true
   },
   "outputs": [],
   "source": [
    "import pandas as pd \n",
    "\n",
    "df = pd.read_csv('data/dfminmax.csv',index_col=0)"
   ]
  },
  {
   "cell_type": "markdown",
   "metadata": {},
   "source": [
    "Some genres appear only on a few ocasions, there are methods to deal with these situations, however right now this scripts will be left out of the classification. The genres kept will be those that appear at least 14 times or more in the dataset."
   ]
  },
  {
   "cell_type": "code",
   "execution_count": 2,
   "metadata": {
    "collapsed": true
   },
   "outputs": [],
   "source": [
    "n = 14\n",
    "\n",
    "keep1 = pd.Series(df['Genre1'].value_counts()>=n)\n",
    "keep1 = set(pd.Series(df['Genre1'].value_counts()>=n).index[keep1==True])\n",
    "\n",
    "keep2 = pd.Series(df['Genre2'].value_counts()>=n)\n",
    "keep2 = set(pd.Series(df['Genre2'].value_counts()>=n).index[keep2==True])\n",
    "\n",
    "keep  = keep1 & keep2"
   ]
  },
  {
   "cell_type": "markdown",
   "metadata": {},
   "source": [
    "Create the training and target sets. This is done by removing the rows not wanted and selecting either Genre1 or Genre2 as target values."
   ]
  },
  {
   "cell_type": "code",
   "execution_count": 3,
   "metadata": {
    "collapsed": true
   },
   "outputs": [],
   "source": [
    "index = []\n",
    "\n",
    "for i, j in zip(df['Genre1'],df['Genre2']):\n",
    "    if i in keep or j in keep:\n",
    "        index.append(True)\n",
    "    else:\n",
    "        index.append(False)\n",
    "        \n",
    "train   = df[df.columns[:44]].ix[index]\n",
    "target1 = df['Genre1'].ix[index]\n",
    "target2 = df['Genre2'].ix[index]"
   ]
  },
  {
   "cell_type": "markdown",
   "metadata": {},
   "source": [
    "Try various learning algorithms to check their performance, literature has high steem for SVM on NLP tasks, start with that one.\n",
    "\n",
    "Grid search is used to check combinations of tuning parameters that yield the best performance based on the score method defined, accuracy.\n",
    "\n",
    "The search is done with crossvalidation, a technique where one part of the data is separated to be the training set and another part to be the test set, so it gives an estimation of the performance with unseen data and prevents overfitting."
   ]
  },
  {
   "cell_type": "code",
   "execution_count": 5,
   "metadata": {
    "collapsed": false
   },
   "outputs": [
    {
     "name": "stdout",
     "output_type": "stream",
     "text": [
      "0.521819366044\n",
      "{'kernel': 'rbf', 'C': 100, 'gamma': 0.1}\n"
     ]
    }
   ],
   "source": [
    "from sklearn.svm             import SVC\n",
    "from sklearn.metrics         import make_scorer, accuracy_score\n",
    "from sklearn.model_selection import GridSearchCV\n",
    "\n",
    "parameters = {'kernel':['rbf','linear','sigmoid'],'gamma':[0.05,0.1,2],'C':[50,100,200]}\n",
    "clf        = SVC()\n",
    "acc_scorer = make_scorer(accuracy_score,greater_is_better=True)\n",
    "grid_obj   = GridSearchCV(clf,parameters,scoring=acc_scorer)\n",
    "grid_obj   = grid_obj.fit(train,target1)\n",
    "clf        = grid_obj.best_estimator_\n",
    "\n",
    "print grid_obj.best_score_\n",
    "print grid_obj.best_params_"
   ]
  },
  {
   "cell_type": "markdown",
   "metadata": {},
   "source": [
    "That means that aproximately 52% of the genres where correctly assessed, good but not great; try Random Forest."
   ]
  },
  {
   "cell_type": "code",
   "execution_count": 7,
   "metadata": {
    "collapsed": false
   },
   "outputs": [
    {
     "name": "stdout",
     "output_type": "stream",
     "text": [
      "0.477203647416\n",
      "{'n_estimators': 300, 'max_depth': 20}\n"
     ]
    }
   ],
   "source": [
    "from sklearn.ensemble import RandomForestClassifier as RFC\n",
    "\n",
    "parameters = {'n_estimators':[150,300,450],'max_depth':[12,16,20]}\n",
    "clf        = RFC(random_state=0)\n",
    "acc_scorer = make_scorer(accuracy_score,greater_is_better=True)\n",
    "grid_obj   = GridSearchCV(clf,parameters,scoring=acc_scorer)\n",
    "grid_obj   = grid_obj.fit(train,target1)\n",
    "clf        = grid_obj.best_estimator_\n",
    "\n",
    "print grid_obj.best_score_\n",
    "print grid_obj.best_params_"
   ]
  },
  {
   "cell_type": "markdown",
   "metadata": {},
   "source": [
    "Around 47% of the classifications where done correctly by RF.\n",
    "\n",
    "Those numbers are still too low, see if can be done better, by using feature selection. Feature selection chooses the features that have the highest predicting power and leave behind those withou contribution or that may cause noise.\n",
    "\n",
    "Two differente methods for feature selection are used to check which gives the best performance and if possible, with the lowest number of used features. Simpler faster models.\n",
    "\n",
    "Two functions will be defined for this task, **'splitter'** that will divide the data for crossvalidation, and **'subsetc'** that will evaluate the models with different choices of k features.\n",
    "\n",
    "Will evaluate with both SVC and RFC."
   ]
  },
  {
   "cell_type": "code",
   "execution_count": 9,
   "metadata": {
    "collapsed": true
   },
   "outputs": [],
   "source": [
    "from sklearn.feature_selection import SelectFromModel, f_classif, mutual_info_classif, SelectKBest\n",
    "import numpy                   as np\n",
    "\n",
    "def splitter(x,splits,n=0):\n",
    "    L     = len(x)\n",
    "    split = int(L/splits)\n",
    "    test  = range(n*split,(n+1)*split)\n",
    "    train = range(0,test[0])+range(test[-1]+1,L)\n",
    "    return train, test\n",
    "\n",
    "def subsetc(model,train,target,n=3):\n",
    "    side = train.shape[1]\n",
    "    predictions = pd.DataFrame(data=np.zeros(shape=(side,2)),\n",
    "                               columns=['f_class','m_i_class'],\n",
    "                               index=range(1,side+1))\n",
    "\n",
    "    for i in range(side,0,-1):\n",
    "        clf_f = SelectKBest(f_classif,k=i)\n",
    "        clf_f.fit(train,target)\n",
    "        c_l   = list(train.columns[clf_f.get_support(True)])\n",
    "        df_f  = clf_f.transform(train)\n",
    "\n",
    "        clf_m = SelectKBest(mutual_info_classif,k=i)\n",
    "        clf_m.fit(train,target)\n",
    "        c_m   = list(train.columns[clf_m.get_support(True)])\n",
    "        df_m  = clf_m.transform(train)\n",
    "\n",
    "        for j in range(n):\n",
    "            train_index, test_index         = splitter(target,n,j)\n",
    "            \n",
    "            clf                             = model\n",
    "            clf.fit(df_f[train_index],target[train_index])\n",
    "            pred                            = clf.predict(df_f[test_index])\n",
    "            predictions['f_class'].ix[i]   += np.mean(pred==target[test_index])/n\n",
    "\n",
    "            clf2                            = model\n",
    "            clf2.fit(df_m[train_index],target[train_index])\n",
    "            pred                            = clf2.predict(df_m[test_index])\n",
    "            predictions['m_i_class'].ix[i] += np.mean(pred==target[test_index])/n\n",
    "    \n",
    "    return predictions"
   ]
  },
  {
   "cell_type": "code",
   "execution_count": 10,
   "metadata": {
    "collapsed": false
   },
   "outputs": [],
   "source": [
    "sub_svc = subsetc(SVC(kernel='rbf',C=100.,gamma=0.1),train,target1,n=3)"
   ]
  },
  {
   "cell_type": "code",
   "execution_count": 11,
   "metadata": {
    "collapsed": false
   },
   "outputs": [
    {
     "data": {
      "image/png": "[encoded data removed]",
      "text/plain": [
       "<matplotlib.figure.Figure at 0x134887cd0>"
      ]
     },
     "metadata": {},
     "output_type": "display_data"
    }
   ],
   "source": [
    "import matplotlib\n",
    "import matplotlib.pyplot as plt\n",
    "%matplotlib inline\n",
    "matplotlib.style.use('ggplot')\n",
    "\n",
    "sub_svc.plot()\n",
    "plt.xlabel('Features')\n",
    "plt.ylabel('Acc.')\n",
    "plt.title('Acc. vs. # of Features')\n",
    "plt.show()"
   ]
  },
  {
   "cell_type": "code",
   "execution_count": 12,
   "metadata": {
    "collapsed": false
   },
   "outputs": [
    {
     "name": "stdout",
     "output_type": "stream",
     "text": [
      "     f_class  m_i_class\n",
      "44  0.517155   0.517155\n",
      "     f_class  m_i_class\n",
      "44  0.517155   0.517155\n"
     ]
    }
   ],
   "source": [
    "print sub_svc.sort_values(by='f_class',ascending=False).head(1)\n",
    "print sub_svc.sort_values(by='m_i_class',ascending=False).head(1)"
   ]
  },
  {
   "cell_type": "markdown",
   "metadata": {},
   "source": [
    "Best performance of SVC with f_class, 44 features."
   ]
  },
  {
   "cell_type": "code",
   "execution_count": 13,
   "metadata": {
    "collapsed": false
   },
   "outputs": [],
   "source": [
    "sub_rfc = subsetc(RFC(n_estimators=300,max_depth=13,random_state=0),train,target1,n=3)"
   ]
  },
  {
   "cell_type": "code",
   "execution_count": 14,
   "metadata": {
    "collapsed": false
   },
   "outputs": [
    {
     "data": {
      "image/png": "[encoded data removed]",
      "text/plain": [
       "<matplotlib.figure.Figure at 0x1349b52d0>"
      ]
     },
     "metadata": {},
     "output_type": "display_data"
    }
   ],
   "source": [
    "sub_rfc.plot()\n",
    "plt.xlabel('Features')\n",
    "plt.ylabel('Acc.')\n",
    "plt.title('Acc. vs. # of Features')\n",
    "plt.show()"
   ]
  },
  {
   "cell_type": "code",
   "execution_count": 15,
   "metadata": {
    "collapsed": false
   },
   "outputs": [
    {
     "name": "stdout",
     "output_type": "stream",
     "text": [
      "     f_class  m_i_class\n",
      "40  0.473724   0.469055\n",
      "    f_class  m_i_class\n",
      "42  0.46797   0.472638\n"
     ]
    }
   ],
   "source": [
    "print sub_rfc.sort_values(by='f_class',ascending=False).head(1)\n",
    "print sub_rfc.sort_values(by='m_i_class',ascending=False).head(1)"
   ]
  },
  {
   "cell_type": "code",
   "execution_count": 16,
   "metadata": {
    "collapsed": true
   },
   "outputs": [],
   "source": [
    "clf_c = SelectKBest(f_classif,k=40)\n",
    "clf_c.fit(train,target1)\n",
    "cols = train.columns[clf_c.get_support(True)]"
   ]
  },
  {
   "cell_type": "markdown",
   "metadata": {},
   "source": [
    "Best performance of RFC with f_class, 40 features.\n",
    "\n",
    "Since both are pretty close, for simplicity sake will use 40 features on both, selected in the previous code."
   ]
  },
  {
   "cell_type": "code",
   "execution_count": 20,
   "metadata": {
    "collapsed": false
   },
   "outputs": [],
   "source": [
    "rfc       = RFC(n_estimators=300,max_depth=13,random_state=0)\n",
    "rfc.fit(train[cols],target1)\n",
    "rfc_pred  = rfc.predict_proba(train[cols])\n",
    "rfc_predc = rfc.predict(train[cols])\n",
    "\n",
    "svc       = SVC(kernel='rbf',C=100.,gamma=0.1,probability=True)\n",
    "svc.fit(train,target1)\n",
    "svc_pred  = svc.predict_proba(train)\n",
    "svc_predc = svc.predict(train)"
   ]
  },
  {
   "cell_type": "markdown",
   "metadata": {},
   "source": [
    "Check the performace of both algorithms, both the feature selection and the parameter tuning were done with crossvalidation, that should give us margin for generalization."
   ]
  },
  {
   "cell_type": "code",
   "execution_count": 21,
   "metadata": {
    "collapsed": false,
    "scrolled": true
   },
   "outputs": [
    {
     "name": "stdout",
     "output_type": "stream",
     "text": [
      "SVC accuracy: 0.616044290056\n",
      "RFC accuracy: 0.941706469822\n"
     ]
    }
   ],
   "source": [
    "print 'SVC accuracy: {}'.format(sum(svc_predc==target1)/float(len(target1)))\n",
    "print 'RFC accuracy: {}'.format(sum(rfc_predc==target1)/float(len(target1)))"
   ]
  },
  {
   "cell_type": "markdown",
   "metadata": {},
   "source": [
    "Next section: [Regression](https://github.com/luisecastro/film_script_analysis/blob/master/08_regression.ipynb)"
   ]
  }
 ],
 "metadata": {
  "kernelspec": {
   "display_name": "Python 2",
   "language": "python",
   "name": "python2"
  },
  "language_info": {
   "codemirror_mode": {
    "name": "ipython",
    "version": 2
   },
   "file_extension": ".py",
   "mimetype": "text/x-python",
   "name": "python",
   "nbconvert_exporter": "python",
   "pygments_lexer": "ipython2",
   "version": "2.7.11"
  }
 },
 "nbformat": 4,
 "nbformat_minor": 0
}
