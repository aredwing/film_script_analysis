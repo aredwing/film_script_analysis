{
 "cells": [
  {
   "cell_type": "markdown",
   "metadata": {},
   "source": [
    "# Film Script Analyzer\n",
    "\n",
    "## Data Preparation\n",
    "\n",
    "## Cleaning"
   ]
  },
  {
   "cell_type": "markdown",
   "metadata": {},
   "source": [
    "Load the previous df, perform checks to assess the validity of the data so far."
   ]
  },
  {
   "cell_type": "code",
   "execution_count": 1,
   "metadata": {
    "collapsed": true
   },
   "outputs": [],
   "source": [
    "import pandas as pd\n",
    "\n",
    "df = pd.read_csv('data/df0.csv',index_col=0)"
   ]
  },
  {
   "cell_type": "markdown",
   "metadata": {},
   "source": [
    "Dimensions"
   ]
  },
  {
   "cell_type": "code",
   "execution_count": 2,
   "metadata": {
    "collapsed": false
   },
   "outputs": [
    {
     "data": {
      "text/plain": [
       "(12713, 67)"
      ]
     },
     "execution_count": 2,
     "metadata": {},
     "output_type": "execute_result"
    }
   ],
   "source": [
    "df.shape"
   ]
  },
  {
   "cell_type": "markdown",
   "metadata": {},
   "source": [
    "First row and columns"
   ]
  },
  {
   "cell_type": "code",
   "execution_count": 3,
   "metadata": {
    "collapsed": false
   },
   "outputs": [
    {
     "data": {
      "text/html": [
       "<div>\n",
       "<table border=\"1\" class=\"dataframe\">\n",
       "  <thead>\n",
       "    <tr style=\"text-align: right;\">\n",
       "      <th></th>\n",
       "      <th>Dutifulness</th>\n",
       "      <th>Cooperation</th>\n",
       "      <th>Self-consciousness</th>\n",
       "      <th>Orderliness</th>\n",
       "      <th>Achievement striving</th>\n",
       "      <th>Self-efficacy</th>\n",
       "      <th>Activity level</th>\n",
       "      <th>Self-discipline</th>\n",
       "      <th>Excitement-seeking</th>\n",
       "      <th>Cautiousness</th>\n",
       "      <th>...</th>\n",
       "      <th>Language1</th>\n",
       "      <th>Language2</th>\n",
       "      <th>Actor1</th>\n",
       "      <th>Actor2</th>\n",
       "      <th>Writer1</th>\n",
       "      <th>Writer2</th>\n",
       "      <th>Country1</th>\n",
       "      <th>Country2</th>\n",
       "      <th>Genre1</th>\n",
       "      <th>Genre2</th>\n",
       "    </tr>\n",
       "  </thead>\n",
       "  <tbody>\n",
       "    <tr>\n",
       "      <th>Mascots 2016.txt</th>\n",
       "      <td>0.629298</td>\n",
       "      <td>0.930427</td>\n",
       "      <td>0.366518</td>\n",
       "      <td>0.294757</td>\n",
       "      <td>0.415045</td>\n",
       "      <td>0.047446</td>\n",
       "      <td>0.22242</td>\n",
       "      <td>0.523312</td>\n",
       "      <td>0.089939</td>\n",
       "      <td>0.924176</td>\n",
       "      <td>...</td>\n",
       "      <td>English</td>\n",
       "      <td>NaN</td>\n",
       "      <td>Zach Woods</td>\n",
       "      <td>Wayne Wilderson</td>\n",
       "      <td>Christopher Guest</td>\n",
       "      <td>Jim Piddock</td>\n",
       "      <td>USA</td>\n",
       "      <td>NaN</td>\n",
       "      <td>Comedy</td>\n",
       "      <td>NaN</td>\n",
       "    </tr>\n",
       "  </tbody>\n",
       "</table>\n",
       "<p>1 rows × 67 columns</p>\n",
       "</div>"
      ],
      "text/plain": [
       "                  Dutifulness  Cooperation  Self-consciousness  Orderliness  \\\n",
       "Mascots 2016.txt     0.629298     0.930427            0.366518     0.294757   \n",
       "\n",
       "                  Achievement striving  Self-efficacy  Activity level  \\\n",
       "Mascots 2016.txt              0.415045       0.047446         0.22242   \n",
       "\n",
       "                  Self-discipline  Excitement-seeking  Cautiousness   ...    \\\n",
       "Mascots 2016.txt         0.523312            0.089939      0.924176   ...     \n",
       "\n",
       "                  Language1  Language2      Actor1           Actor2  \\\n",
       "Mascots 2016.txt    English        NaN  Zach Woods  Wayne Wilderson   \n",
       "\n",
       "                            Writer1      Writer2  Country1  Country2  Genre1  \\\n",
       "Mascots 2016.txt  Christopher Guest  Jim Piddock       USA       NaN  Comedy   \n",
       "\n",
       "                  Genre2  \n",
       "Mascots 2016.txt     NaN  \n",
       "\n",
       "[1 rows x 67 columns]"
      ]
     },
     "execution_count": 3,
     "metadata": {},
     "output_type": "execute_result"
    }
   ],
   "source": [
    "df.head(1)"
   ]
  },
  {
   "cell_type": "markdown",
   "metadata": {},
   "source": [
    "Statistical description, returns only for numeric values."
   ]
  },
  {
   "cell_type": "code",
   "execution_count": 4,
   "metadata": {
    "collapsed": false,
    "scrolled": true
   },
   "outputs": [
    {
     "data": {
      "text/html": [
       "<div>\n",
       "<table border=\"1\" class=\"dataframe\">\n",
       "  <thead>\n",
       "    <tr style=\"text-align: right;\">\n",
       "      <th></th>\n",
       "      <th>Dutifulness</th>\n",
       "      <th>Cooperation</th>\n",
       "      <th>Self-consciousness</th>\n",
       "      <th>Orderliness</th>\n",
       "      <th>Achievement striving</th>\n",
       "      <th>Self-efficacy</th>\n",
       "      <th>Activity level</th>\n",
       "      <th>Self-discipline</th>\n",
       "      <th>Excitement-seeking</th>\n",
       "      <th>Cautiousness</th>\n",
       "      <th>...</th>\n",
       "      <th>ADV</th>\n",
       "      <th>CONJ</th>\n",
       "      <th>PRON</th>\n",
       "      <th>PRT</th>\n",
       "      <th>NUM</th>\n",
       "      <th>X</th>\n",
       "      <th>Metascore</th>\n",
       "      <th>imdbRating</th>\n",
       "      <th>Year</th>\n",
       "      <th>Runtime</th>\n",
       "    </tr>\n",
       "  </thead>\n",
       "  <tbody>\n",
       "    <tr>\n",
       "      <th>count</th>\n",
       "      <td>12713.000000</td>\n",
       "      <td>12713.000000</td>\n",
       "      <td>12713.000000</td>\n",
       "      <td>12713.000000</td>\n",
       "      <td>12713.000000</td>\n",
       "      <td>12713.000000</td>\n",
       "      <td>12713.000000</td>\n",
       "      <td>12713.000000</td>\n",
       "      <td>12713.000000</td>\n",
       "      <td>12713.000000</td>\n",
       "      <td>...</td>\n",
       "      <td>12713.000000</td>\n",
       "      <td>12713.000000</td>\n",
       "      <td>12713.000000</td>\n",
       "      <td>12713.000000</td>\n",
       "      <td>12713.000000</td>\n",
       "      <td>12713.000000</td>\n",
       "      <td>5010.000000</td>\n",
       "      <td>12411.000000</td>\n",
       "      <td>12713.000000</td>\n",
       "      <td>12358.000000</td>\n",
       "    </tr>\n",
       "    <tr>\n",
       "      <th>mean</th>\n",
       "      <td>0.488751</td>\n",
       "      <td>0.676519</td>\n",
       "      <td>0.307052</td>\n",
       "      <td>0.448979</td>\n",
       "      <td>0.415456</td>\n",
       "      <td>0.219902</td>\n",
       "      <td>0.268673</td>\n",
       "      <td>0.524163</td>\n",
       "      <td>0.251768</td>\n",
       "      <td>0.659258</td>\n",
       "      <td>...</td>\n",
       "      <td>0.062001</td>\n",
       "      <td>0.015984</td>\n",
       "      <td>0.132272</td>\n",
       "      <td>0.028528</td>\n",
       "      <td>0.007952</td>\n",
       "      <td>0.008427</td>\n",
       "      <td>54.481238</td>\n",
       "      <td>6.302498</td>\n",
       "      <td>1997.961535</td>\n",
       "      <td>100.673734</td>\n",
       "    </tr>\n",
       "    <tr>\n",
       "      <th>std</th>\n",
       "      <td>0.192243</td>\n",
       "      <td>0.198775</td>\n",
       "      <td>0.179021</td>\n",
       "      <td>0.187396</td>\n",
       "      <td>0.143855</td>\n",
       "      <td>0.154371</td>\n",
       "      <td>0.155818</td>\n",
       "      <td>0.194001</td>\n",
       "      <td>0.145952</td>\n",
       "      <td>0.208545</td>\n",
       "      <td>...</td>\n",
       "      <td>0.010048</td>\n",
       "      <td>0.005332</td>\n",
       "      <td>0.021880</td>\n",
       "      <td>0.004719</td>\n",
       "      <td>0.018870</td>\n",
       "      <td>0.004568</td>\n",
       "      <td>17.984226</td>\n",
       "      <td>1.185783</td>\n",
       "      <td>20.924082</td>\n",
       "      <td>25.973905</td>\n",
       "    </tr>\n",
       "    <tr>\n",
       "      <th>min</th>\n",
       "      <td>0.000130</td>\n",
       "      <td>0.003025</td>\n",
       "      <td>0.005664</td>\n",
       "      <td>0.008173</td>\n",
       "      <td>0.018783</td>\n",
       "      <td>0.001240</td>\n",
       "      <td>0.007049</td>\n",
       "      <td>0.000443</td>\n",
       "      <td>0.005180</td>\n",
       "      <td>0.000306</td>\n",
       "      <td>...</td>\n",
       "      <td>0.001364</td>\n",
       "      <td>0.000142</td>\n",
       "      <td>0.000000</td>\n",
       "      <td>0.000000</td>\n",
       "      <td>0.000000</td>\n",
       "      <td>0.000000</td>\n",
       "      <td>1.000000</td>\n",
       "      <td>1.300000</td>\n",
       "      <td>1899.000000</td>\n",
       "      <td>1.000000</td>\n",
       "    </tr>\n",
       "    <tr>\n",
       "      <th>25%</th>\n",
       "      <td>0.354514</td>\n",
       "      <td>0.554785</td>\n",
       "      <td>0.170399</td>\n",
       "      <td>0.305702</td>\n",
       "      <td>0.314035</td>\n",
       "      <td>0.101923</td>\n",
       "      <td>0.150682</td>\n",
       "      <td>0.391369</td>\n",
       "      <td>0.145917</td>\n",
       "      <td>0.530015</td>\n",
       "      <td>...</td>\n",
       "      <td>0.057111</td>\n",
       "      <td>0.012731</td>\n",
       "      <td>0.122850</td>\n",
       "      <td>0.025831</td>\n",
       "      <td>0.004511</td>\n",
       "      <td>0.005136</td>\n",
       "      <td>41.000000</td>\n",
       "      <td>5.600000</td>\n",
       "      <td>1992.000000</td>\n",
       "      <td>90.000000</td>\n",
       "    </tr>\n",
       "    <tr>\n",
       "      <th>50%</th>\n",
       "      <td>0.496516</td>\n",
       "      <td>0.710666</td>\n",
       "      <td>0.274640</td>\n",
       "      <td>0.438189</td>\n",
       "      <td>0.410223</td>\n",
       "      <td>0.185717</td>\n",
       "      <td>0.234533</td>\n",
       "      <td>0.536547</td>\n",
       "      <td>0.224750</td>\n",
       "      <td>0.697536</td>\n",
       "      <td>...</td>\n",
       "      <td>0.062306</td>\n",
       "      <td>0.015116</td>\n",
       "      <td>0.134937</td>\n",
       "      <td>0.028646</td>\n",
       "      <td>0.005931</td>\n",
       "      <td>0.007789</td>\n",
       "      <td>55.000000</td>\n",
       "      <td>6.500000</td>\n",
       "      <td>2007.000000</td>\n",
       "      <td>98.000000</td>\n",
       "    </tr>\n",
       "    <tr>\n",
       "      <th>75%</th>\n",
       "      <td>0.629807</td>\n",
       "      <td>0.833403</td>\n",
       "      <td>0.408637</td>\n",
       "      <td>0.583158</td>\n",
       "      <td>0.509952</td>\n",
       "      <td>0.301233</td>\n",
       "      <td>0.354964</td>\n",
       "      <td>0.668768</td>\n",
       "      <td>0.326739</td>\n",
       "      <td>0.823920</td>\n",
       "      <td>...</td>\n",
       "      <td>0.067722</td>\n",
       "      <td>0.018051</td>\n",
       "      <td>0.145716</td>\n",
       "      <td>0.031402</td>\n",
       "      <td>0.007897</td>\n",
       "      <td>0.011094</td>\n",
       "      <td>68.000000</td>\n",
       "      <td>7.200000</td>\n",
       "      <td>2012.000000</td>\n",
       "      <td>111.000000</td>\n",
       "    </tr>\n",
       "    <tr>\n",
       "      <th>max</th>\n",
       "      <td>0.974698</td>\n",
       "      <td>0.997843</td>\n",
       "      <td>0.995562</td>\n",
       "      <td>0.985683</td>\n",
       "      <td>0.911754</td>\n",
       "      <td>0.954355</td>\n",
       "      <td>0.974390</td>\n",
       "      <td>0.986867</td>\n",
       "      <td>0.998324</td>\n",
       "      <td>0.997966</td>\n",
       "      <td>...</td>\n",
       "      <td>0.112930</td>\n",
       "      <td>0.071330</td>\n",
       "      <td>0.228687</td>\n",
       "      <td>0.069160</td>\n",
       "      <td>0.321981</td>\n",
       "      <td>0.070501</td>\n",
       "      <td>100.000000</td>\n",
       "      <td>9.600000</td>\n",
       "      <td>2017.000000</td>\n",
       "      <td>566.000000</td>\n",
       "    </tr>\n",
       "  </tbody>\n",
       "</table>\n",
       "<p>8 rows × 48 columns</p>\n",
       "</div>"
      ],
      "text/plain": [
       "        Dutifulness   Cooperation  Self-consciousness   Orderliness  \\\n",
       "count  12713.000000  12713.000000        12713.000000  12713.000000   \n",
       "mean       0.488751      0.676519            0.307052      0.448979   \n",
       "std        0.192243      0.198775            0.179021      0.187396   \n",
       "min        0.000130      0.003025            0.005664      0.008173   \n",
       "25%        0.354514      0.554785            0.170399      0.305702   \n",
       "50%        0.496516      0.710666            0.274640      0.438189   \n",
       "75%        0.629807      0.833403            0.408637      0.583158   \n",
       "max        0.974698      0.997843            0.995562      0.985683   \n",
       "\n",
       "       Achievement striving  Self-efficacy  Activity level  Self-discipline  \\\n",
       "count          12713.000000   12713.000000    12713.000000     12713.000000   \n",
       "mean               0.415456       0.219902        0.268673         0.524163   \n",
       "std                0.143855       0.154371        0.155818         0.194001   \n",
       "min                0.018783       0.001240        0.007049         0.000443   \n",
       "25%                0.314035       0.101923        0.150682         0.391369   \n",
       "50%                0.410223       0.185717        0.234533         0.536547   \n",
       "75%                0.509952       0.301233        0.354964         0.668768   \n",
       "max                0.911754       0.954355        0.974390         0.986867   \n",
       "\n",
       "       Excitement-seeking  Cautiousness      ...                ADV  \\\n",
       "count        12713.000000  12713.000000      ...       12713.000000   \n",
       "mean             0.251768      0.659258      ...           0.062001   \n",
       "std              0.145952      0.208545      ...           0.010048   \n",
       "min              0.005180      0.000306      ...           0.001364   \n",
       "25%              0.145917      0.530015      ...           0.057111   \n",
       "50%              0.224750      0.697536      ...           0.062306   \n",
       "75%              0.326739      0.823920      ...           0.067722   \n",
       "max              0.998324      0.997966      ...           0.112930   \n",
       "\n",
       "               CONJ          PRON           PRT           NUM             X  \\\n",
       "count  12713.000000  12713.000000  12713.000000  12713.000000  12713.000000   \n",
       "mean       0.015984      0.132272      0.028528      0.007952      0.008427   \n",
       "std        0.005332      0.021880      0.004719      0.018870      0.004568   \n",
       "min        0.000142      0.000000      0.000000      0.000000      0.000000   \n",
       "25%        0.012731      0.122850      0.025831      0.004511      0.005136   \n",
       "50%        0.015116      0.134937      0.028646      0.005931      0.007789   \n",
       "75%        0.018051      0.145716      0.031402      0.007897      0.011094   \n",
       "max        0.071330      0.228687      0.069160      0.321981      0.070501   \n",
       "\n",
       "         Metascore    imdbRating          Year       Runtime  \n",
       "count  5010.000000  12411.000000  12713.000000  12358.000000  \n",
       "mean     54.481238      6.302498   1997.961535    100.673734  \n",
       "std      17.984226      1.185783     20.924082     25.973905  \n",
       "min       1.000000      1.300000   1899.000000      1.000000  \n",
       "25%      41.000000      5.600000   1992.000000     90.000000  \n",
       "50%      55.000000      6.500000   2007.000000     98.000000  \n",
       "75%      68.000000      7.200000   2012.000000    111.000000  \n",
       "max     100.000000      9.600000   2017.000000    566.000000  \n",
       "\n",
       "[8 rows x 48 columns]"
      ]
     },
     "execution_count": 4,
     "metadata": {},
     "output_type": "execute_result"
    }
   ],
   "source": [
    "df.describe()"
   ]
  },
  {
   "cell_type": "markdown",
   "metadata": {},
   "source": [
    "Check for missing, 'NAs' values, define **'checkNAS'.** The information will be relevant later on. \n",
    "\n",
    "As it is seen, all NA's are from the IMDB data."
   ]
  },
  {
   "cell_type": "code",
   "execution_count": 5,
   "metadata": {
    "collapsed": true
   },
   "outputs": [],
   "source": [
    "def checkNAS(df):\n",
    "    NAS = []\n",
    "    for i in df.columns:\n",
    "        NAS.append([sum(pd.isnull(df[i])),i])\n",
    "    NAS = sorted(NAS,reverse=True)\n",
    "    for i in NAS:\n",
    "        if i[0] !=0:\n",
    "            print i"
   ]
  },
  {
   "cell_type": "code",
   "execution_count": 6,
   "metadata": {
    "collapsed": false
   },
   "outputs": [
    {
     "name": "stdout",
     "output_type": "stream",
     "text": [
      "[9968, 'Country2']\n",
      "[9679, 'Language2']\n",
      "[7703, 'Metascore']\n",
      "[4824, 'Awards']\n",
      "[4760, 'Writer2']\n",
      "[3526, 'Rated']\n",
      "[2618, 'Genre2']\n",
      "[1074, 'Plot']\n",
      "[912, 'Poster']\n",
      "[587, 'Writer1']\n",
      "[388, 'Released']\n",
      "[355, 'Runtime']\n",
      "[303, 'imdbVotes']\n",
      "[303, 'Actor2']\n",
      "[302, 'imdbRating']\n",
      "[142, 'Actor1']\n",
      "[131, 'Director']\n",
      "[105, 'Language1']\n",
      "[54, 'Genre1']\n",
      "[38, 'Country1']\n"
     ]
    }
   ],
   "source": [
    "NAS = checkNAS(df)\n",
    "NAS"
   ]
  },
  {
   "cell_type": "markdown",
   "metadata": {},
   "source": [
    "Continue by searching for outliers, define **'getIQR'** to check which values are outliers."
   ]
  },
  {
   "cell_type": "code",
   "execution_count": 7,
   "metadata": {
    "collapsed": true
   },
   "outputs": [],
   "source": [
    "def getIQR(series,n1=.25,n2=.75,mult=1.5):\n",
    "    q1 = series.quantile(n1)\n",
    "    q3 = series.quantile(n2)\n",
    "    dist = (q3-q1)*mult\n",
    "    iqr = (series < q1-dist) | (series > q3+dist)\n",
    "    return iqr"
   ]
  },
  {
   "cell_type": "markdown",
   "metadata": {},
   "source": [
    "Check the outliers for every numeric column of the dataset."
   ]
  },
  {
   "cell_type": "code",
   "execution_count": 11,
   "metadata": {
    "collapsed": false
   },
   "outputs": [
    {
     "data": {
      "text/plain": [
       "Shoah 1985.txt                                 54934\n",
       "Dangerous Days Making Blade Runner 2007.txt    45082\n",
       "Gettysburg 1993.txt                            38580\n",
       "Hamlet 1996.txt                                38122\n",
       "Chastity Bites 2013.txt                        37956\n",
       "Name: WORDS, dtype: int64"
      ]
     },
     "execution_count": 11,
     "metadata": {},
     "output_type": "execute_result"
    }
   ],
   "source": [
    "IQR = {}\n",
    "for feat in df.columns[:44]:\n",
    "    IQR.update({feat:df[feat].ix[getIQR(df[feat])]})\n",
    "    \n",
    "IQR['WORDS'].sort_values(ascending=False)[:5]"
   ]
  },
  {
   "cell_type": "markdown",
   "metadata": {},
   "source": [
    "After looking at the files, the text seem valid so they are conserved."
   ]
  },
  {
   "cell_type": "markdown",
   "metadata": {},
   "source": [
    "The main interest is for the script to be originally written in English, that is why all the non English scripts (even if translated) will be removed, this will be done in 2 ways:\n",
    "\n",
    "- Remove scripts whose 'Language1' feature is different from English.\n",
    "- Check the 'X' feature, that is words that could not be recognized, if the rate is high it may be an indication that the script isn't written in English.\n",
    "- An additional feature to check is 'NUM', some of the scripts have a time tag (like CC), these will be removed as well.\n",
    "\n",
    "The thresholds listed were selected after looking at the files."
   ]
  },
  {
   "cell_type": "code",
   "execution_count": 26,
   "metadata": {
    "collapsed": false
   },
   "outputs": [],
   "source": [
    "df = df.ix[df['Language1']=='English']\n",
    "df = df.ix[df['X']<0.030548]\n",
    "df = df.ix[df['NUM']<0.05]"
   ]
  },
  {
   "cell_type": "markdown",
   "metadata": {},
   "source": [
    "After looking at the data, duplicated rows weres spotted, as shown next, there are 2 'Doctor Strange' movies but with different years, should remove the duplicates."
   ]
  },
  {
   "cell_type": "code",
   "execution_count": 28,
   "metadata": {
    "collapsed": false,
    "scrolled": true
   },
   "outputs": [
    {
     "data": {
      "text/plain": [
       "Hawking 2004.txt                        7.7\n",
       "Doctor Strange 2007.txt                 8.0\n",
       "Van Gogh Painted With Words 2010.txt    8.1\n",
       "The Imitation Game 2014.txt             8.1\n",
       "Stuart A Life Backwards 2007.txt        8.0\n",
       "Doctor Strange 2016.txt                 8.0\n",
       "Name: imdbRating, dtype: float64"
      ]
     },
     "execution_count": 28,
     "metadata": {},
     "output_type": "execute_result"
    }
   ],
   "source": [
    "df['imdbRating'].ix[df['Actor1']=='Benedict Cumberbatch']"
   ]
  },
  {
   "cell_type": "markdown",
   "metadata": {},
   "source": [
    "Here the duplicates are found and the real instance is selected by matching it with the year provided by imdb."
   ]
  },
  {
   "cell_type": "code",
   "execution_count": 29,
   "metadata": {
    "collapsed": true
   },
   "outputs": [],
   "source": [
    "index = []\n",
    "nyear = []\n",
    "\n",
    "for script in df.index:\n",
    "    index.append(script[:-9])\n",
    "    nyear.append(int(script[-8:-4]))\n",
    "\n",
    "count  = 0\n",
    "nindex = []\n",
    "for i, j in zip(df['Year'],nyear):\n",
    "    if i == j or i == j+1 or i == j-1:\n",
    "        nindex.append(count)\n",
    "    count += 1"
   ]
  },
  {
   "cell_type": "markdown",
   "metadata": {},
   "source": [
    "Filter the dataset and save."
   ]
  },
  {
   "cell_type": "code",
   "execution_count": 30,
   "metadata": {
    "collapsed": false,
    "scrolled": true
   },
   "outputs": [
    {
     "data": {
      "text/plain": [
       "(9575, 67)"
      ]
     },
     "execution_count": 30,
     "metadata": {},
     "output_type": "execute_result"
    }
   ],
   "source": [
    "df = df.iloc[nindex]\n",
    "df.shape\n",
    "\n",
    "df.to_csv('data/dfrep0.csv',encoding='utf-8')"
   ]
  },
  {
   "cell_type": "markdown",
   "metadata": {},
   "source": [
    "Next section: [Preprocessing](https://github.com/luisecastro/film_script_analysis/blob/master/05_preprocessing.ipynb)"
   ]
  }
 ],
 "metadata": {
  "kernelspec": {
   "display_name": "Python 2",
   "language": "python",
   "name": "python2"
  },
  "language_info": {
   "codemirror_mode": {
    "name": "ipython",
    "version": 2
   },
   "file_extension": ".py",
   "mimetype": "text/x-python",
   "name": "python",
   "nbconvert_exporter": "python",
   "pygments_lexer": "ipython2",
   "version": "2.7.11"
  }
 },
 "nbformat": 4,
 "nbformat_minor": 0
}
