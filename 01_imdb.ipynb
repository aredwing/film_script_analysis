{
 "cells": [
  {
   "cell_type": "markdown",
   "metadata": {},
   "source": [
    "# Film Script Analyzer\n",
    "\n",
    "## Data preparation\n",
    "\n",
    "## IMDB"
   ]
  },
  {
   "cell_type": "markdown",
   "metadata": {},
   "source": [
    "[OMDB](https://www.omdbapi.com/) is an IMDB API interfase, it is used by submitting a query with film name or IMDB tag and answers with *json* data such as: Year, Rating, Actors, Directors, IMDB rating, etc.\n",
    "\n",
    "Create a list of all the names of the files downloaded previously, those names will be submited to request the data."
   ]
  },
  {
   "cell_type": "code",
   "execution_count": null,
   "metadata": {
    "collapsed": true
   },
   "outputs": [],
   "source": [
    "from os import listdir\n",
    "from os.path import isfile\n",
    "\n",
    "onlyfiles = [f for f in listdir('scripts/') if isfile('scripts/'+f)]"
   ]
  },
  {
   "cell_type": "markdown",
   "metadata": {},
   "source": [
    "Define a **'omdb'** function to submit the queries to the API."
   ]
  },
  {
   "cell_type": "code",
   "execution_count": null,
   "metadata": {
    "collapsed": true
   },
   "outputs": [],
   "source": [
    "def omdb(tag=None,name=None):\n",
    "    if tag:\n",
    "        url = 'http://www.omdbapi.com/?i='+tag+'&plot=short&r=json'\n",
    "        raw = fetch(url)\n",
    "    else:\n",
    "        url = \"http://www.omdbapi.com/?t=\"+name+\"&y=&plot=short&r=json\"\n",
    "        raw = fetch(url)\n",
    "    result = ''\n",
    "    for i in raw:\n",
    "        result += i \n",
    "    return json.loads(result)"
   ]
  },
  {
   "cell_type": "markdown",
   "metadata": {},
   "source": [
    "Use the list generated with the names of the films, to iteratively request the data, but first remove the ' (year)'+'.txt' end part of the strings."
   ]
  },
  {
   "cell_type": "code",
   "execution_count": null,
   "metadata": {
    "collapsed": true
   },
   "outputs": [],
   "source": [
    "imdb = {}\n",
    "for key in onlyfiles:\n",
    "    name = ''.join(e for e in key if e.isalnum() or e == ' ')[:-8]\n",
    "    imdb.update({key:omdb(name=name)})"
   ]
  },
  {
   "cell_type": "markdown",
   "metadata": {},
   "source": [
    "Save json file with the names of the scripts as key and the data as values."
   ]
  },
  {
   "cell_type": "code",
   "execution_count": null,
   "metadata": {
    "collapsed": true
   },
   "outputs": [],
   "source": [
    "with open('data/imbd.json','w') as f:\n",
    "    json.dump(imdb,f)"
   ]
  },
  {
   "cell_type": "markdown",
   "metadata": {},
   "source": [
    "Not all the queries resulted in success, either because the name was incorrect or the script wasn't in imdb's db, either way filter those instances were the response was False, and where the number of values is different than 20 (that means TV series), leave in the index variable only the names of scripts that satisfy this condition."
   ]
  },
  {
   "cell_type": "code",
   "execution_count": null,
   "metadata": {
    "collapsed": true
   },
   "outputs": [],
   "source": [
    "index = []\n",
    "for key in imdb.keys():\n",
    "    if imdb[key]['Response'] == 'True':\n",
    "        if len(imdb[key]) == 20:\n",
    "            index.append(key)"
   ]
  },
  {
   "cell_type": "markdown",
   "metadata": {},
   "source": [
    "Create the structure for the dataset that will be used here on, it will be a pandas dataframe with columns = values of imdb's query and index = the names of the scripts, then save the data to disk."
   ]
  },
  {
   "cell_type": "code",
   "execution_count": null,
   "metadata": {
    "collapsed": true
   },
   "outputs": [],
   "source": [
    "columns = imdb.values()[1].keys()\n",
    "\n",
    "df = pd.DataFrame(index=index,columns=columns)\n",
    "\n",
    "for row in df.index:\n",
    "    for col in df.columns:\n",
    "        df[col].ix[row] = imdb[row][col]\n",
    "        \n",
    "df.to_csv('data/imdb.csv',encoding='utf-8')"
   ]
  },
  {
   "cell_type": "markdown",
   "metadata": {},
   "source": [
    "Transform features to easier to handle values:\n",
    "- **Language:** Leave only first language in list.\n",
    "- **Director:** Guarantee that only one director is listed\n",
    "- **Genre:** Include first two genres listed in different columns.\n",
    "- **Actors:** Include first two actors listed in different columns.\n",
    "- **Writers:** Include first two writers listed in different columns.\n",
    "- **Country:** Include first two countries listed in different columns.\n",
    "- **Year:** Set it as an integer.\n",
    "- **Runtime:** Split minutes integer from 'min' string.\n",
    "\n",
    "Define **'split'** function for it, it splits the string by the specified char and returns the number of the part selected."
   ]
  },
  {
   "cell_type": "code",
   "execution_count": null,
   "metadata": {
    "collapsed": true
   },
   "outputs": [],
   "source": [
    "def split(x,y,n):\n",
    "    temp = str(x).split(y)\n",
    "    if len(temp)>1:\n",
    "        return str(x).split(y)[n:n+1][0].strip()\n",
    "    return x"
   ]
  },
  {
   "cell_type": "markdown",
   "metadata": {},
   "source": [
    "Proceed to use the function with apply, which allows to use the function for each element of the list, drop (delete) all the initial features and if the second column is equal to the first one, assign 'NaN' instead, then save the dataset."
   ]
  },
  {
   "cell_type": "code",
   "execution_count": null,
   "metadata": {
    "collapsed": true
   },
   "outputs": [],
   "source": [
    "df              = df.ix[df['Type']!='game']\n",
    "\n",
    "df['Language1'] = df['Language'].apply(split,args=(',',0))\n",
    "df['Language2'] = df['Language'].apply(split,args=(',',1))\n",
    "df['Runtime']   = df['Runtime'].apply(split,args=(' ',0))\n",
    "df['Runtime']   = df['Runtime'].apply(int)\n",
    "df['Actor1']    = df['Actors'].apply(split,args=(',',0))\n",
    "df['Actor2']    = df['Actors'].apply(split,args=(',',1))\n",
    "df['Year']      = df['Year'].apply(int)\n",
    "df['Director']  = df['Director'].apply(split,args=(',',0))\n",
    "df['Writer1']   = df['Writer'].apply(split,args=(',',0))\n",
    "df['Writer2']   = df['Writer'].apply(split,args=(',',1))\n",
    "df['Country1']  = df['Country'].apply(split,args=(',',0))\n",
    "df['Country2']  = df['Country'].apply(split,args=(',',1))\n",
    "df['Genre1']    = df['Genre'].apply(split,args=(',',0))\n",
    "df['Genre2']    = df['Genre'].apply(split,args=(',',1))\n",
    "\n",
    "df = df.drop('Language',1)\n",
    "df = df.drop('Actors',1)\n",
    "df = df.drop('Country',1)\n",
    "df = df.drop('Type',1)\n",
    "df = df.drop('Writer',1)\n",
    "df = df.drop('Response',1)\n",
    "df = df.drop('Genre',1)\n",
    "\n",
    "df['Writer2'].ix[df['Writer1']==df['Writer2']]       = 'NaN'\n",
    "df['Country2'].ix[df['Country1']==df['Country2']]    = 'NaN'\n",
    "df['Language2'].ix[df['Language1']==df['Language2']] = 'NaN'\n",
    "df['Genre2'].ix[df['Genre1']==df['Genre2']]          = 'NaN'\n",
    "df['Actor2'].ix[df['Actor1']==df['Actor2']]          = 'NaN'   \n",
    "\n",
    "df.to_csv('data/imdbP.csv',encoding='utf-8')"
   ]
  }
 ],
 "metadata": {
  "kernelspec": {
   "display_name": "Python 2",
   "language": "python",
   "name": "python2"
  },
  "language_info": {
   "codemirror_mode": {
    "name": "ipython",
    "version": 2
   },
   "file_extension": ".py",
   "mimetype": "text/x-python",
   "name": "python",
   "nbconvert_exporter": "python",
   "pygments_lexer": "ipython2",
   "version": "2.7.11"
  }
 },
 "nbformat": 4,
 "nbformat_minor": 0
}
