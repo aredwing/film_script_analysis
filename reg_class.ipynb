{
 "cells": [
  {
   "cell_type": "markdown",
   "metadata": {},
   "source": [
    "# Machine Learning\n",
    "\n",
    "## Classification\n",
    "\n",
    "Comes from [Recommendation / Summarization.](https://github.com/luisecastro/dataInc/blob/master/rec_sum.ipynb)\n",
    "\n",
    "With the data gathered and created, test the capacity of supervised classification models to accurately predict the genre of a script.\n",
    "\n",
    "To do so the models are tested againts the given genre at IMDB, the models are tunned to check which parameters are the best for each model, and which features should be chosen to increase accuracy and which should be omitted.\n",
    "\n",
    "Following import the dataset."
   ]
  },
  {
   "cell_type": "code",
   "execution_count": 1,
   "metadata": {
    "collapsed": true
   },
   "outputs": [],
   "source": [
    "import pandas as pd\n",
    "dfpp = pd.read_csv('data/dfpp.csv',index_col=0)\n",
    "df   = pd.read_csv('data/df.csv',index_col=0)"
   ]
  },
  {
   "cell_type": "markdown",
   "metadata": {},
   "source": [
    "For a crossvalidated grid search, the minimum of instances per class has to be greater that the number of folds, identify classes with less that 3 instances. Correct a leading space in the Genre2 feature, then proceed to identify classes as with Genre1."
   ]
  },
  {
   "cell_type": "code",
   "execution_count": 209,
   "metadata": {
    "collapsed": false
   },
   "outputs": [
    {
     "name": "stdout",
     "output_type": "stream",
     "text": [
      "Index([u'Adult', u'Musical', u'History', u'Film-Noir', u'War', u'Reality-TV'], dtype='object')\n"
     ]
    }
   ],
   "source": [
    "remove1 = pd.Series(dfpp['Genre1'].value_counts()>3)\n",
    "remove1 = pd.Series(dfpp['Genre1'].value_counts()>3).index[remove1==False]\n",
    "print remove1"
   ]
  },
  {
   "cell_type": "markdown",
   "metadata": {},
   "source": [
    "Define **'strip'** to remove leading space."
   ]
  },
  {
   "cell_type": "code",
   "execution_count": 6,
   "metadata": {
    "collapsed": true
   },
   "outputs": [],
   "source": [
    "def strip(x):\n",
    "    return str(x).strip()"
   ]
  },
  {
   "cell_type": "code",
   "execution_count": 210,
   "metadata": {
    "collapsed": false
   },
   "outputs": [
    {
     "name": "stdout",
     "output_type": "stream",
     "text": [
      "Index([u'Sci-Fi', u'Short', u'Adult', u'Family', u' Documentary',\n",
      "       u' Reality-TV', u'Reality-TV', u' Game-Show', u'Crime', u'History'],\n",
      "      dtype='object')\n"
     ]
    }
   ],
   "source": [
    "remove2 = pd.Series(dfpp['Genre2'].value_counts()>3)\n",
    "remove2 = pd.Series(dfpp['Genre2'].value_counts()>3).index[remove2==False]\n",
    "print remove2"
   ]
  },
  {
   "cell_type": "markdown",
   "metadata": {},
   "source": [
    "Remove classes from the target and train datasets."
   ]
  },
  {
   "cell_type": "code",
   "execution_count": 211,
   "metadata": {
    "collapsed": false
   },
   "outputs": [],
   "source": [
    "index = []\n",
    "\n",
    "for i, j in zip(dfpp['Genre1'],dfpp['Genre2']):\n",
    "    if i in remove1 or j in remove2:\n",
    "        index.append(False)\n",
    "    else:\n",
    "        index.append(True)\n",
    "        \n",
    "train   = dfpp[dfpp.columns[:44]].ix[index]      \n",
    "target1 = dfpp['Genre1'].ix[index]\n",
    "target2 = dfpp['Genre2'].ix[index]"
   ]
  },
  {
   "cell_type": "markdown",
   "metadata": {},
   "source": [
    "Define functions for working with data:\n",
    "- **'train_test'** splits the dataset randomly into train and test sets.\n",
    "- **'accuracy'** calculates the the number of right predictions / total predictions.\n",
    "- **'transform'** changes string classes to numeric."
   ]
  },
  {
   "cell_type": "code",
   "execution_count": 11,
   "metadata": {
    "collapsed": true
   },
   "outputs": [],
   "source": [
    "import numpy as np\n",
    "\n",
    "def train_test(x,size=0.7,boot=False,seed=0):\n",
    "    np.random.seed(seed)\n",
    "    r = range(len(x))\n",
    "    train = sorted(np.random.choice(r,size= int(len(x)*size),replace=boot))\n",
    "    test = []\n",
    "    for i in r:\n",
    "        if i not in train:\n",
    "            test.append(i)\n",
    "    return train, test"
   ]
  },
  {
   "cell_type": "code",
   "execution_count": 12,
   "metadata": {
    "collapsed": true
   },
   "outputs": [],
   "source": [
    "def accuracy(x,y):\n",
    "    result = []\n",
    "    for i,j in zip(x,y):\n",
    "        result.append(i==j)\n",
    "    return sum(result)/float(len(x))"
   ]
  },
  {
   "cell_type": "code",
   "execution_count": 13,
   "metadata": {
    "collapsed": true
   },
   "outputs": [],
   "source": [
    "def transform(x):\n",
    "    cats   = []\n",
    "    unique = list(target1.unique())\n",
    "    \n",
    "    for i in list(target1.values):\n",
    "        cats.append(unique.index(i))\n",
    "    return cats"
   ]
  },
  {
   "cell_type": "markdown",
   "metadata": {},
   "source": [
    "Perform a gridsearch to tune the ML models, by providing ranges of values to the tuning parameters, the function returns the parameters that have the best accuracy, this parameters will be used when performing the classification."
   ]
  },
  {
   "cell_type": "markdown",
   "metadata": {},
   "source": [
    "### Support Vector"
   ]
  },
  {
   "cell_type": "code",
   "execution_count": 9,
   "metadata": {
    "collapsed": false
   },
   "outputs": [
    {
     "name": "stdout",
     "output_type": "stream",
     "text": [
      "0.472982975574\n",
      "{'kernel': 'rbf', 'C': 4.0, 'gamma': 0.01}\n"
     ]
    }
   ],
   "source": [
    "from sklearn.svm import SVC\n",
    "from sklearn.metrics import make_scorer, accuracy_score\n",
    "from sklearn.model_selection import GridSearchCV\n",
    "\n",
    "parameters = {'kernel':['rbf','linear','sigmoid'],'gamma':[0.005,0.01,0.05],'C':[2.,4.,8.]}\n",
    "clf        = SVC()\n",
    "acc_scorer = make_scorer(accuracy_score,greater_is_better=True)\n",
    "grid_obj   = GridSearchCV(clf,parameters,scoring=acc_scorer)\n",
    "grid_obj   = grid_obj.fit(train,target1)\n",
    "clf        = grid_obj.best_estimator_\n",
    "\n",
    "print grid_obj.best_score_\n",
    "print grid_obj.best_params_"
   ]
  },
  {
   "cell_type": "markdown",
   "metadata": {},
   "source": [
    "### Random Forest"
   ]
  },
  {
   "cell_type": "code",
   "execution_count": 14,
   "metadata": {
    "collapsed": false
   },
   "outputs": [
    {
     "name": "stdout",
     "output_type": "stream",
     "text": [
      "0.438934122872\n",
      "{'n_estimators': 250, 'max_depth': 11}\n"
     ]
    }
   ],
   "source": [
    "from sklearn.ensemble import RandomForestClassifier as RFC\n",
    "\n",
    "parameters = {'n_estimators':[200,250,300],'max_depth':[10,11,11]}\n",
    "clf        = RFC()\n",
    "acc_scorer = make_scorer(accuracy_score,greater_is_better=True)\n",
    "grid_obj   = GridSearchCV(clf,parameters,scoring=acc_scorer)\n",
    "grid_obj   = grid_obj.fit(train,target1)\n",
    "clf        = grid_obj.best_estimator_\n",
    "\n",
    "print grid_obj.best_score_\n",
    "print grid_obj.best_params_"
   ]
  },
  {
   "cell_type": "markdown",
   "metadata": {},
   "source": [
    "### K-Nearest Neighbors"
   ]
  },
  {
   "cell_type": "code",
   "execution_count": 15,
   "metadata": {
    "collapsed": false
   },
   "outputs": [
    {
     "name": "stdout",
     "output_type": "stream",
     "text": [
      "0.430792005922\n",
      "{'n_neighbors': 15, 'weights': 'distance'}\n"
     ]
    }
   ],
   "source": [
    "from sklearn.neighbors import KNeighborsClassifier as KNC\n",
    "\n",
    "parameters = {'n_neighbors':[10,15,20],'weights':['uniform','distance']}\n",
    "clf        = KNC()\n",
    "acc_scorer = make_scorer(accuracy_score,greater_is_better=True)\n",
    "grid_obj   = GridSearchCV(clf,parameters,scoring=acc_scorer)\n",
    "grid_obj   = grid_obj.fit(train,target1)\n",
    "clf        = grid_obj.best_estimator_\n",
    "\n",
    "print grid_obj.best_score_\n",
    "print grid_obj.best_params_"
   ]
  },
  {
   "cell_type": "markdown",
   "metadata": {},
   "source": [
    "### Adaptative Boosting"
   ]
  },
  {
   "cell_type": "code",
   "execution_count": 16,
   "metadata": {
    "collapsed": false
   },
   "outputs": [
    {
     "name": "stdout",
     "output_type": "stream",
     "text": [
      "0.350851221318\n",
      "{'n_estimators': 100, 'learning_rate': 0.05}\n"
     ]
    }
   ],
   "source": [
    "parameters = {'n_estimators':[50,100,200],'learning_rate':[0.01,0.05,0.1]}\n",
    "clf        = ABC()\n",
    "acc_scorer = make_scorer(accuracy_score,greater_is_better=True)\n",
    "grid_obj   = GridSearchCV(clf,parameters,scoring=acc_scorer)\n",
    "grid_obj   = grid_obj.fit(train,target1)\n",
    "clf        = grid_obj.best_estimator_\n",
    "\n",
    "print grid_obj.best_score_\n",
    "print grid_obj.best_params_"
   ]
  },
  {
   "cell_type": "markdown",
   "metadata": {},
   "source": [
    "The best algorithm was **SVC** with almost **48%** of accuracy, train and tune it for Genre2 and see how it performs predicting either of them."
   ]
  },
  {
   "cell_type": "code",
   "execution_count": 19,
   "metadata": {
    "collapsed": false
   },
   "outputs": [
    {
     "name": "stdout",
     "output_type": "stream",
     "text": [
      "0.316802368616\n",
      "{'kernel': 'rbf', 'C': 4.0, 'gamma': 0.005}\n"
     ]
    }
   ],
   "source": [
    "parameters = {'kernel':['rbf','linear','sigmoid'],'gamma':[0.001,0.005,0.01],'C':[2.,4.,8.]}\n",
    "clf        = SVC()\n",
    "acc_scorer = make_scorer(accuracy_score,greater_is_better=True)\n",
    "grid_obj   = GridSearchCV(clf,parameters,scoring=acc_scorer)\n",
    "grid_obj   = grid_obj.fit(train,target2)\n",
    "clf        = grid_obj.best_estimator_\n",
    "\n",
    "print grid_obj.best_score_\n",
    "print grid_obj.best_params_"
   ]
  },
  {
   "cell_type": "markdown",
   "metadata": {},
   "source": [
    "Around 74% chance to predict correctly the at least one of the two first listed genres for the script."
   ]
  },
  {
   "cell_type": "markdown",
   "metadata": {},
   "source": [
    "## Regression\n",
    "\n",
    "Define **'rmse'** function to calculate the Root Mean Square error of prediction vs. target."
   ]
  },
  {
   "cell_type": "code",
   "execution_count": 22,
   "metadata": {
    "collapsed": true
   },
   "outputs": [],
   "source": [
    "def rmse(x,y):\n",
    "    samples = float(len(x))\n",
    "    result  = 0.\n",
    "    for i, j in zip(x,y):\n",
    "        result += (i-j)**2/samples\n",
    "    return result**0.5"
   ]
  },
  {
   "cell_type": "markdown",
   "metadata": {},
   "source": [
    "### K-Nearest Neighbors"
   ]
  },
  {
   "cell_type": "markdown",
   "metadata": {},
   "source": [
    "Define **'knn_tune'** a tuning function for KNN."
   ]
  },
  {
   "cell_type": "code",
   "execution_count": 49,
   "metadata": {
    "collapsed": true
   },
   "outputs": [],
   "source": [
    "from sklearn.neighbors import KNeighborsRegressor as KNR\n",
    "\n",
    "def knn_tune(train,target,columns,ind=40,n=0.7,rep=10):\n",
    "    predictions = pd.DataFrame(data=np.zeros(shape=(ind,len(columns))),\n",
    "                               columns=columns,\n",
    "                               index=range(1,ind+1))\n",
    "    \n",
    "    for seed in range(1,rep+1):\n",
    "        train_index, test_index = train_test(target,n,seed)\n",
    "        train_i                 = train.ix[train_index]\n",
    "        test_i                  = train.ix[test_index]\n",
    "        target_train            = target.ix[train_index]\n",
    "        target_test             = target.ix[test_index]\n",
    "\n",
    "        for neig in range(1,ind+1):\n",
    "            for opt in columns:\n",
    "                clf = KNR(n_neighbors=neig,weights=opt)\n",
    "                clf.fit(train_i,target_train.ravel())\n",
    "                knrpred = clf.predict(test_i)\n",
    "                predictions[opt][neig] += rmse(knrpred,target_test)/rep\n",
    "                \n",
    "    return predictions"
   ]
  },
  {
   "cell_type": "markdown",
   "metadata": {},
   "source": [
    "Define train, test and target datasets and function."
   ]
  },
  {
   "cell_type": "code",
   "execution_count": 60,
   "metadata": {
    "collapsed": false
   },
   "outputs": [],
   "source": [
    "index    = ~dfpp['imdbRating'].isnull()\n",
    "target   = dfpp['imdbRating'].ix[index]\n",
    "train    = dfpp[dfpp.columns[:44]].ix[index]\n",
    "columns  = ['uniform','distance']\n",
    "tune     = knn_tune(train,target,columns)"
   ]
  },
  {
   "cell_type": "markdown",
   "metadata": {},
   "source": [
    "Plot the results."
   ]
  },
  {
   "cell_type": "code",
   "execution_count": 57,
   "metadata": {
    "collapsed": false,
    "scrolled": true
   },
   "outputs": [
    {
     "data": {
      "image/png": "[encoded data removed]",
      "text/plain": [
       "<matplotlib.figure.Figure at 0x11f59f290>"
      ]
     },
     "metadata": {},
     "output_type": "display_data"
    }
   ],
   "source": [
    "import matplotlib\n",
    "import matplotlib.pyplot as plt\n",
    "%matplotlib inline\n",
    "matplotlib.style.use('ggplot')\n",
    "\n",
    "tune.plot()\n",
    "plt.xlabel('K')\n",
    "plt.ylabel('RMSE')\n",
    "plt.title('RMSE vs # of Neighbors')\n",
    "plt.show()"
   ]
  },
  {
   "cell_type": "code",
   "execution_count": 69,
   "metadata": {
    "collapsed": false
   },
   "outputs": [
    {
     "name": "stdout",
     "output_type": "stream",
     "text": [
      "     uniform  distance\n",
      "39  1.123715  1.121405\n",
      "     uniform  distance\n",
      "39  1.123715  1.121405\n"
     ]
    }
   ],
   "source": [
    "print tune.sort_values(by='uniform').head(1)\n",
    "print tune.sort_values(by='distance').head(1)"
   ]
  },
  {
   "cell_type": "markdown",
   "metadata": {},
   "source": [
    "### Benchmark"
   ]
  },
  {
   "cell_type": "markdown",
   "metadata": {},
   "source": [
    "Define a benchmark, in this case the RMSE of the population vs. the mean of the population."
   ]
  },
  {
   "cell_type": "code",
   "execution_count": 58,
   "metadata": {
    "collapsed": false
   },
   "outputs": [
    {
     "name": "stdout",
     "output_type": "stream",
     "text": [
      "1.19112368745\n"
     ]
    }
   ],
   "source": [
    "others = []\n",
    "for i in range(target.shape[0]):\n",
    "    others.append((target.iloc[i]-np.mean(target))**2)\n",
    "    \n",
    "print (sum(others)/len(others))**0.5"
   ]
  },
  {
   "cell_type": "markdown",
   "metadata": {},
   "source": [
    "### Support Vector Regression"
   ]
  },
  {
   "cell_type": "markdown",
   "metadata": {},
   "source": [
    "Follow the same procedure with SVR, will use the for metrics."
   ]
  },
  {
   "cell_type": "code",
   "execution_count": 61,
   "metadata": {
    "collapsed": false
   },
   "outputs": [
    {
     "name": "stdout",
     "output_type": "stream",
     "text": [
      "-1.18114001964\n",
      "{'kernel': 'rbf', 'C': 2.0, 'gamma': 0.005}\n"
     ]
    }
   ],
   "source": [
    "from sklearn.svm import SVR\n",
    "from sklearn.metrics import mean_squared_error\n",
    "from sklearn.model_selection import cross_val_score\n",
    "\n",
    "parameters = {'kernel':['rbf','linear','sigmoid'],'gamma':[0.001,0.005,0.01],'C':[1.,2.,4.]}\n",
    "clf        = SVR()\n",
    "acc_scorer = make_scorer(mean_squared_error,greater_is_better=False)\n",
    "grid_obj   = GridSearchCV(clf,parameters,scoring=acc_scorer)\n",
    "grid_obj   = grid_obj.fit(train,target)\n",
    "clf        = grid_obj.best_estimator_\n",
    "\n",
    "print grid_obj.best_score_\n",
    "print grid_obj.best_params_"
   ]
  },
  {
   "cell_type": "markdown",
   "metadata": {},
   "source": [
    "## Feature selection"
   ]
  },
  {
   "cell_type": "markdown",
   "metadata": {},
   "source": [
    "Using f and mutual info regression, select the best subset of parameters."
   ]
  },
  {
   "cell_type": "code",
   "execution_count": 74,
   "metadata": {
    "collapsed": false
   },
   "outputs": [],
   "source": [
    "from sklearn.feature_selection import SelectFromModel, f_regression, mutual_info_regression, SelectKBest\n",
    "\n",
    "def subset(model,train,target,n=10):\n",
    "    side = train.shape[1]\n",
    "    predictions = pd.DataFrame(data=np.zeros(shape=(side,2)),\n",
    "                               columns=['f_reg','m_i_reg'],\n",
    "                               index=range(1,side+1))\n",
    "\n",
    "    for i in range(1,side):\n",
    "        clf_f = SelectKBest(f_regression, k=i)\n",
    "        clf_f.fit(train,target)\n",
    "        c_l   = list(train.columns[clf_f.get_support(True)])\n",
    "        df_f  = clf_f.transform(train)\n",
    "\n",
    "        clf_m = SelectKBest(mutual_info_regression,k=i)\n",
    "        clf_m.fit(train,target)\n",
    "        c_m   = list(train.columns[clf_m.get_support(True)])\n",
    "        df_m  = clf_m.transform(train)\n",
    "\n",
    "        for j in range(n):\n",
    "            train_index, test_index    = train_test(target,seed=j)\n",
    "            clf                        = model\n",
    "            clf.fit(df_f[train_index],target[train_index])\n",
    "            knrpred                    = clf.predict(df_f[test_index])\n",
    "            predictions['f_reg'][i]   += rmse(knrpred,target[test_index])/10\n",
    "\n",
    "            train_index, test_index    = train_test(target,seed=j)\n",
    "            clf2                       = model\n",
    "            clf2.fit(df_m[train_index],target[train_index])\n",
    "            knrpred                    = clf2.predict(df_m[test_index])\n",
    "            predictions['m_i_reg'][i] += rmse(knrpred,target[test_index])/10\n",
    "    \n",
    "    return predictions"
   ]
  },
  {
   "cell_type": "code",
   "execution_count": 68,
   "metadata": {
    "collapsed": false
   },
   "outputs": [
    {
     "data": {
      "image/png": "[encoded data removed]",
      "text/plain": [
       "<matplotlib.figure.Figure at 0x11fc31190>"
      ]
     },
     "metadata": {},
     "output_type": "display_data"
    }
   ],
   "source": [
    "predictions = subset(KNR(n_neighbors=26,weights='uniform'),train,target)\n",
    "\n",
    "predictions.plot()\n",
    "plt.xlabel('# of Features')\n",
    "plt.ylabel('RMSE')\n",
    "plt.title('RMSE vs # of Features')\n",
    "plt.show()"
   ]
  },
  {
   "cell_type": "code",
   "execution_count": 70,
   "metadata": {
    "collapsed": false
   },
   "outputs": [
    {
     "name": "stdout",
     "output_type": "stream",
     "text": [
      "       f_reg   m_i_reg\n",
      "17  1.086448  1.105315\n",
      "       f_reg   m_i_reg\n",
      "21  1.091503  1.093763\n"
     ]
    }
   ],
   "source": [
    "print predictions.sort_values(by='f_reg').head(1)\n",
    "print predictions.sort_values(by='m_i_reg').head(1)"
   ]
  },
  {
   "cell_type": "code",
   "execution_count": 73,
   "metadata": {
    "collapsed": false,
    "scrolled": true
   },
   "outputs": [
    {
     "data": {
      "text/plain": [
       "Index([u'Self-consciousness', u'Self-discipline', u'Sympathy', u'Modesty',\n",
       "       u'Adventurousness', u'Gregariousness', u'Intellect', u'Imagination',\n",
       "       u'Cheerfulness', u'Liberalism', u'WORDS', u'LENGTH', u'ADP', u'.',\n",
       "       u'CONJ', u'NUM', u'X'],\n",
       "      dtype='object')"
      ]
     },
     "execution_count": 73,
     "metadata": {},
     "output_type": "execute_result"
    }
   ],
   "source": [
    "clf = SelectKBest(f_regression,k=17)\n",
    "clf.fit(train,target)\n",
    "knr_cols = train.columns[clf.get_support(True)]\n",
    "knr_cols"
   ]
  },
  {
   "cell_type": "code",
   "execution_count": 75,
   "metadata": {
    "collapsed": true
   },
   "outputs": [],
   "source": [
    "predictions = subset(SVR(C=2,gamma=0.005,kernel='rbf'),train,target)"
   ]
  },
  {
   "cell_type": "code",
   "execution_count": 78,
   "metadata": {
    "collapsed": false
   },
   "outputs": [
    {
     "name": "stdout",
     "output_type": "stream",
     "text": [
      "       f_reg   m_i_reg\n",
      "33  1.066941  1.067667\n",
      "       f_reg   m_i_reg\n",
      "28  1.069089  1.064078\n"
     ]
    },
    {
     "data": {
      "image/png": "[encoded data removed]",
      "text/plain": [
       "<matplotlib.figure.Figure at 0x121b0c790>"
      ]
     },
     "metadata": {},
     "output_type": "display_data"
    }
   ],
   "source": [
    "print predictions.sort_values(by='f_reg').head(1)\n",
    "print predictions.sort_values(by='m_i_reg').head(1)\n",
    "\n",
    "predictions.iloc[:-1].plot()\n",
    "plt.title('Feature Selection')\n",
    "plt.xlabel('# of Features')\n",
    "plt.ylabel('RMSE')\n",
    "plt.show()"
   ]
  },
  {
   "cell_type": "code",
   "execution_count": 79,
   "metadata": {
    "collapsed": false,
    "scrolled": false
   },
   "outputs": [
    {
     "data": {
      "text/plain": [
       "Index([u'Dutifulness', u'Self-consciousness', u'Orderliness',\n",
       "       u'Self-discipline', u'Excitement-seeking', u'Cautiousness',\n",
       "       u'Emotionality', u'Vulnerability', u'Immoderation', u'Sympathy',\n",
       "       u'Friendliness', u'Altruism', u'Adventurousness', u'Gregariousness',\n",
       "       u'Intellect', u'Artistic interests', u'Depression', u'Trust',\n",
       "       u'Cheerfulness', u'Liberalism', u'WORDS', u'LENGTH', u'NOUN', u'ADP',\n",
       "       u'ADJ', u'ADV', u'CONJ', u'NUM'],\n",
       "      dtype='object')"
      ]
     },
     "execution_count": 79,
     "metadata": {},
     "output_type": "execute_result"
    }
   ],
   "source": [
    "clf = SelectKBest(mutual_info_regression,k=28)\n",
    "clf.fit(train,target)\n",
    "svr_cols = train.columns[clf.get_support(True)]\n",
    "svr_cols"
   ]
  },
  {
   "cell_type": "markdown",
   "metadata": {},
   "source": [
    "## Neural Networks (Work in progress)"
   ]
  },
  {
   "cell_type": "markdown",
   "metadata": {},
   "source": [
    "Neural Networks play a very important role in today's machine learning, see how they behave with the tasks at hand."
   ]
  },
  {
   "cell_type": "code",
   "execution_count": 16,
   "metadata": {
    "collapsed": false,
    "scrolled": true
   },
   "outputs": [
    {
     "name": "stderr",
     "output_type": "stream",
     "text": [
      "Using Theano backend.\n"
     ]
    }
   ],
   "source": [
    "from keras.models import Sequential\n",
    "from keras.layers import Dense\n",
    "from keras.wrappers.scikit_learn import KerasRegressor\n",
    "from sklearn.model_selection import cross_val_score\n",
    "from sklearn.model_selection import KFold\n",
    "from sklearn.preprocessing import StandardScaler\n",
    "from sklearn.pipeline import Pipeline\n",
    "from keras.optimizers import SGD, Adamax\n",
    "from keras.layers import Dropout"
   ]
  },
  {
   "cell_type": "markdown",
   "metadata": {},
   "source": [
    "### Regression"
   ]
  },
  {
   "cell_type": "markdown",
   "metadata": {},
   "source": [
    "Prepare the dataset and target."
   ]
  },
  {
   "cell_type": "code",
   "execution_count": null,
   "metadata": {
    "collapsed": true
   },
   "outputs": [],
   "source": [
    "index  = ~dfpp['imdbRating'].isnull()\n",
    "Y      = dfpp['imdbRating'].ix[index].values\n",
    "X      = dfpp[dfpp.columns[:44]].ix[index].values"
   ]
  },
  {
   "cell_type": "markdown",
   "metadata": {},
   "source": [
    "Define a NN regression model:\n",
    "\n",
    "- input_dim     = 44 features\n",
    "- hidden layers = 1 with 19 nodes\n",
    "- output layer  = 1 node\n",
    "\n",
    "Parameters:\n",
    "- init       = normal\n",
    "- activation = softplus\n",
    "- optimizer  = Adamax\n",
    "- loss       = mse or mae"
   ]
  },
  {
   "cell_type": "code",
   "execution_count": null,
   "metadata": {
    "collapsed": true
   },
   "outputs": [],
   "source": [
    "def reg_model(input_dim=44):\n",
    "    model = Sequential()\n",
    "    model.add(Dense(19,input_dim=input_dim,init='normal',activation='softplus'))\n",
    "    model.add(Dense(1,init='normal'))\n",
    "    model.compile(loss='mse',optimizer='Adamax')\n",
    "    return model"
   ]
  },
  {
   "cell_type": "markdown",
   "metadata": {},
   "source": [
    "Prepare data and perform 5 fold cross validation. The number of epochs and batch size were also adjusted for the lowest RMSE."
   ]
  },
  {
   "cell_type": "code",
   "execution_count": 167,
   "metadata": {
    "collapsed": false
   },
   "outputs": [
    {
     "name": "stdout",
     "output_type": "stream",
     "text": [
      "Results: 1.16 (0.15) MSE\n"
     ]
    }
   ],
   "source": [
    "seed = 7\n",
    "np.random.seed(seed)\n",
    "\n",
    "estimator = KerasRegressor(build_fn=reg_model,nb_epoch=100,batch_size=30,verbose=0)\n",
    "\n",
    "kfold   = KFold(n_splits=5,random_state=seed)\n",
    "results = cross_val_score(estimator,X,Y,cv=kfold)\n",
    "print(\"Results: %.2f (%.2f) MSE\" % (results.mean(), results.std()))"
   ]
  },
  {
   "cell_type": "markdown",
   "metadata": {},
   "source": [
    "### Classification"
   ]
  },
  {
   "cell_type": "markdown",
   "metadata": {},
   "source": [
    "As before, define a NN that will tackle the classification task. The main differences are:\n",
    "\n",
    "- Output layer =  1 node per output, 18 total.\n",
    "- loss function = categorical_crossentropy.\n",
    "- metrics = accuracy."
   ]
  },
  {
   "cell_type": "code",
   "execution_count": 229,
   "metadata": {
    "collapsed": true
   },
   "outputs": [],
   "source": [
    "from keras.wrappers.scikit_learn import KerasClassifier\n",
    "from keras.utils import np_utils\n",
    "from sklearn.preprocessing import LabelEncoder\n",
    "from sklearn.pipeline import Pipeline\n",
    "from keras.constraints import maxnorm"
   ]
  },
  {
   "cell_type": "markdown",
   "metadata": {},
   "source": [
    "Extract just values from the previously created dataset and target."
   ]
  },
  {
   "cell_type": "code",
   "execution_count": 212,
   "metadata": {
    "collapsed": false
   },
   "outputs": [],
   "source": [
    "XC  = train.values     \n",
    "YC  = target1.values"
   ]
  },
  {
   "cell_type": "markdown",
   "metadata": {},
   "source": [
    "Check # of categories."
   ]
  },
  {
   "cell_type": "code",
   "execution_count": 213,
   "metadata": {
    "collapsed": false
   },
   "outputs": [
    {
     "data": {
      "text/plain": [
       "18"
      ]
     },
     "execution_count": 213,
     "metadata": {},
     "output_type": "execute_result"
    }
   ],
   "source": [
    "len(np.unique(YC))"
   ]
  },
  {
   "cell_type": "markdown",
   "metadata": {},
   "source": [
    "Encode the target values to be used with the NN, then run the training."
   ]
  },
  {
   "cell_type": "code",
   "execution_count": 238,
   "metadata": {
    "collapsed": true
   },
   "outputs": [],
   "source": [
    "encoder   = LabelEncoder()\n",
    "encoder.fit(YC)\n",
    "\n",
    "encoded_Y = encoder.transform(YC)\n",
    "dummy_y   = np_utils.to_categorical(encoded_Y)"
   ]
  },
  {
   "cell_type": "markdown",
   "metadata": {},
   "source": [
    "Define classification model."
   ]
  },
  {
   "cell_type": "code",
   "execution_count": 249,
   "metadata": {
    "collapsed": true
   },
   "outputs": [],
   "source": [
    "def cla_model(input_dim=44):\n",
    "    model = Sequential()\n",
    "    model.add(Dropout(0.2, input_shape=(input_dim,)))\n",
    "    model.add(Dense(100,init='normal',activation='softplus'))\n",
    "    model.add(Dropout(0.2))\n",
    "    model.add(Dense(100,init='normal',activation='softplus'))\n",
    "    model.add(Dropout(0.2))\n",
    "    model.add(Dense(18,init='normal'))\n",
    "    model.compile(loss='categorical_crossentropy',optimizer='Nadam',metrics=['accuracy'])\n",
    "    return model"
   ]
  },
  {
   "cell_type": "markdown",
   "metadata": {},
   "source": [
    "Train the NN."
   ]
  },
  {
   "cell_type": "code",
   "execution_count": 250,
   "metadata": {
    "collapsed": false,
    "scrolled": true
   },
   "outputs": [
    {
     "name": "stdout",
     "output_type": "stream",
     "text": [
      "Baseline: 17.96% (6.10%)\n"
     ]
    }
   ],
   "source": [
    "seed = 7\n",
    "np.random.seed(seed)\n",
    "\n",
    "estimator = KerasClassifier(build_fn=cla_model,nb_epoch=500, batch_size=40, verbose=0)\n",
    "\n",
    "kfold     = KFold(n_splits=5, shuffle=True, random_state=seed)\n",
    "results   = cross_val_score(estimator, XC, dummy_y, cv=kfold)\n",
    "\n",
    "print(\"Baseline: %.2f%% (%.2f%%)\" % (results.mean()*100, results.std()*100))"
   ]
  }
 ],
 "metadata": {
  "kernelspec": {
   "display_name": "Python 2",
   "language": "python",
   "name": "python2"
  },
  "language_info": {
   "codemirror_mode": {
    "name": "ipython",
    "version": 2
   },
   "file_extension": ".py",
   "mimetype": "text/x-python",
   "name": "python",
   "nbconvert_exporter": "python",
   "pygments_lexer": "ipython2",
   "version": "2.7.11"
  }
 },
 "nbformat": 4,
 "nbformat_minor": 0
}
